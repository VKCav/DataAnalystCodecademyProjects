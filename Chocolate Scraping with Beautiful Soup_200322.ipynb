{
 "cells": [
  {
   "cell_type": "markdown",
   "metadata": {},
   "source": [
    "# Chocolate Scraping with Beautiful Soup"
   ]
  },
  {
   "cell_type": "markdown",
   "metadata": {},
   "source": [
    "After eating chocolate bars your whole life, you've decided to go on a quest to find the greatest chocolate bar in the world.\n",
    "\n",
    "You've found a website that has over 1700 reviews of chocolate bars from all around the world. It's linked below the text for the first task.\n",
    "\n",
    "The data is displayed in a table, instead of in a `csv` or `json`. Thankfully, we have the power of BeautifulSoup that will help us transform this webpage into a DataFrame that we can manipulate and analyze.\n",
    "\n",
    "The rating scale is from 1-5, as described in <a href=\"http://flavorsofcacao.com/review_guide.html\">this review guide</a>. A `1` is \"unpleasant\" chocolate, while a `5` is a bar that transcends \"beyond the ordinary limits\".\n",
    "\n",
    "Some questions we thought about when we found this dataset were:\n",
    " - Where are the best cocao beans grown?\n",
    " - Which countries produce the highest-rated bars?\n",
    " - What's the relationship between cocao solids percentage and rating?\n",
    " \n",
    "Can we find a way to answer these questions, or uncover more questions, using BeautifulSoup and Pandas?"
   ]
  },
  {
   "cell_type": "markdown",
   "metadata": {},
   "source": [
    "## Make Some Chocolate Soup"
   ]
  },
  {
   "cell_type": "markdown",
   "metadata": {},
   "source": [
    "1. Explore the webpage displayed in the browser. What elements could be useful to scrape here? Which elements do we _not_ want to scrape?"
   ]
  },
  {
   "cell_type": "markdown",
   "metadata": {},
   "source": [
    "To perform data analysis and gain greater insights into how ratings of chocolate bar compare with the type of bean, origin of bean, cocoa %, it would be useful to extract all of the data from the table on the website.\n",
    "Looking at the inspector I can see that the useful tags are 'tr' and 'td' which hold the data.\n",
    "Not interested in scraping the image or the webpage title and description."
   ]
  },
  {
   "cell_type": "markdown",
   "metadata": {},
   "source": [
    "https://content.codecademy.com/courses/beautifulsoup/cacao/index.html"
   ]
  },
  {
   "cell_type": "markdown",
   "metadata": {},
   "source": [
    "List of Tags to Include:"
   ]
  },
  {
   "cell_type": "markdown",
   "metadata": {},
   "source": [
    "List of Tags to Exclude:"
   ]
  },
  {
   "cell_type": "markdown",
   "metadata": {},
   "source": [
    "2. Let's make a request to this stie to get the raw HTML, which we can later turn into a BeautifulSoup object.\n",
    "\n",
    "   The URL is\n",
    "\n",
    "```\n",
    "https://content.codecademy.com/courses/beautifulsoup/cacao/index.html\n",
    "```\n",
    "   \n",
    "   You can pass this into the `.get()` method of the `requests` module to get the HTML."
   ]
  },
  {
   "cell_type": "code",
   "execution_count": 1,
   "metadata": {},
   "outputs": [],
   "source": [
    "#import codecademylib3_seaborn\n",
    "from bs4 import BeautifulSoup\n",
    "import requests\n",
    "import pandas as pd\n",
    "import matplotlib.pyplot as plt\n",
    "import numpy as np\n",
    "\n",
    "#request to get the raw html from the website\n",
    "webpage = requests.get('https://content.codecademy.com/courses/beautifulsoup/cacao/index.html')\n"
   ]
  },
  {
   "cell_type": "markdown",
   "metadata": {},
   "source": [
    "3. Create a BeautifulSoup object called `soup` to traverse this HTML.\n",
    "\n",
    "   Use `\"html.parser\"` as the parser, and the content of the response you got from your request as the document."
   ]
  },
  {
   "cell_type": "code",
   "execution_count": 2,
   "metadata": {},
   "outputs": [],
   "source": [
    "#create a beautiful soup object that grabs the html data from the webpage and parses it into something more readable\n",
    "soup = BeautifulSoup(webpage.content, \"html.parser\")\n",
    "#print(soup.td.string)\n",
    "#print(soup.find_all(\"td\"))\n",
    "#print(soup.find_all(['tr', 'td']))\n"
   ]
  },
  {
   "cell_type": "markdown",
   "metadata": {},
   "source": [
    "4. If you want, print out the `soup` object to explore the HTML.\n",
    "\n",
    "   So many table rows! You're probably very relieved that we don't have to scrape this information by hand."
   ]
  },
  {
   "cell_type": "code",
   "execution_count": 3,
   "metadata": {},
   "outputs": [],
   "source": [
    "#print(soup)"
   ]
  },
  {
   "cell_type": "markdown",
   "metadata": {},
   "source": [
    "## How are ratings distributed?"
   ]
  },
  {
   "cell_type": "markdown",
   "metadata": {},
   "source": [
    "5. How many terrible chocolate bars are out there? And how many earned a perfect 5? Let's make a histogram of this data.\n",
    "\n",
    "   The first thing to do is to put all of the ratings into a list.\n",
    "   \n",
    "   Use a command on the `soup` object to get all of the tags that contain the ratings."
   ]
  },
  {
   "cell_type": "code",
   "execution_count": 4,
   "metadata": {},
   "outputs": [],
   "source": [
    "#here we are creating a list out of the 'ratings' column of data in the table\n",
    "lst = soup.find_all(attrs={'class':'Rating'})\n",
    "#print(lst)\n",
    "        "
   ]
  },
  {
   "cell_type": "markdown",
   "metadata": {},
   "source": [
    "6. Create an empty list called `ratings` to store all the ratings in."
   ]
  },
  {
   "cell_type": "code",
   "execution_count": 5,
   "metadata": {},
   "outputs": [],
   "source": [
    "ratings = []\n",
    "ratings_unsorted = []\n",
    "for item in lst:\n",
    "    ratings.append(item.get_text())\n",
    "    ratings_unsorted.append(item.get_text())\n",
    "ratings.sort()\n",
    "#print(ratings_unsorted)\n",
    "#print(ratings)"
   ]
  },
  {
   "cell_type": "markdown",
   "metadata": {},
   "source": [
    "7. Loop through the ratings tags and get the text contained in each one. Add it to the ratings list.\n",
    "\n",
    "   As you do this, convert the rating to a float, so that the ratings list will be numerical. This should help with calculations later."
   ]
  },
  {
   "cell_type": "code",
   "execution_count": 6,
   "metadata": {},
   "outputs": [],
   "source": [
    "#print(ratings)\n",
    "#remove the first item in the list which is the field heading 'rating'\n",
    "ratings.remove('Rating')\n",
    "ratings_unsorted.remove('Rating')\n",
    "\n",
    "#convert the strings to floats\n",
    "ratings = [float(x) for x in ratings]\n",
    "ratings_unsorted = [float(x) for x in ratings_unsorted]\n",
    "#print(ratings_unsorted)"
   ]
  },
  {
   "cell_type": "markdown",
   "metadata": {},
   "source": [
    "8. Using Matplotlib, create a histogram of the ratings values:\n",
    "\n",
    "```py\n",
    "plt.hist(ratings)\n",
    "```\n",
    "\n",
    "   Remember to show the plot using `plt.show()`!"
   ]
  },
  {
   "cell_type": "code",
   "execution_count": 7,
   "metadata": {},
   "outputs": [
    {
     "data": {
      "image/png": "[encoded data removed]",
      "text/plain": [
       "<Figure size 432x288 with 1 Axes>"
      ]
     },
     "metadata": {
      "needs_background": "light"
     },
     "output_type": "display_data"
    }
   ],
   "source": [
    "#create a histogram with the ratings data, first sort the data in the ratings list:\n",
    "#ratings.sort()\n",
    "\n",
    "#plot the data using matplot\n",
    "plt.hist(ratings, density=False, bins=15)\n",
    "plt.xlabel('chocolate bar ratings')\n",
    "plt.ylabel('number of reviews (frequency)')\n",
    "plt.show()\n",
    "\n",
    "\n"
   ]
  },
  {
   "cell_type": "markdown",
   "metadata": {},
   "source": [
    "## Which chocolatier makes the best chocolate?"
   ]
  },
  {
   "cell_type": "markdown",
   "metadata": {},
   "source": [
    "9. We want to now find the 10 most highly rated chocolatiers. One way to do this is to make a DataFrame that has the chocolate companies in one column, and the ratings in another. Then, we can do a `groupby` to find the ones with the highest average rating.\n",
    "\n",
    "   First, let's find all tags on the webpage that contain the company names."
   ]
  },
  {
   "cell_type": "code",
   "execution_count": 8,
   "metadata": {},
   "outputs": [],
   "source": [
    "#here we are creating a list out of the 'ratings' column of data in the table\n",
    "comp = soup.find_all(attrs={'class':'Company'})\n",
    "#print(comp)"
   ]
  },
  {
   "cell_type": "markdown",
   "metadata": {},
   "source": [
    "10. Just like we did with ratings, we now want to make an empty list to hold company names."
   ]
  },
  {
   "cell_type": "code",
   "execution_count": 9,
   "metadata": {},
   "outputs": [],
   "source": [
    "company = []\n",
    "\n",
    "\n"
   ]
  },
  {
   "cell_type": "markdown",
   "metadata": {},
   "source": [
    "11. Loop through the tags containing the company names, and add the text from each tag to the list you just created."
   ]
  },
  {
   "cell_type": "code",
   "execution_count": 10,
   "metadata": {},
   "outputs": [
    {
     "name": "stdout",
     "output_type": "stream",
     "text": [
      "1795\n",
      "1795\n"
     ]
    }
   ],
   "source": [
    "for item in comp:\n",
    "    #print(item)\n",
    "    company.append(item.get_text())\n",
    "#remove first item from the list\n",
    "company.pop(0)\n",
    "print(len(company))\n",
    "print(len(ratings_unsorted))\n"
   ]
  },
  {
   "cell_type": "markdown",
   "metadata": {},
   "source": [
    "12. Create a DataFrame with a column \"Company\" corresponding to your companies list, and a column \"Ratings\" corresponding to your ratings list."
   ]
  },
  {
   "cell_type": "code",
   "execution_count": 11,
   "metadata": {},
   "outputs": [],
   "source": [
    "#create dictionary of combining the two lists and creating a numerical 'key' value that is unique as the lists\n",
    "#contain duplicates\n",
    "data = {}\n",
    "for num in range(0,1795):\n",
    "    data[num] = {\"Company\": company[num],\"Rating\": ratings_unsorted[num]}\n",
    "#print(data)   \n",
    "\n",
    "#create dataframe\n",
    "df = pd.DataFrame.from_dict(data, orient=\"index\")\n",
    "#print(df)\n"
   ]
  },
  {
   "cell_type": "markdown",
   "metadata": {},
   "source": [
    "13. Use `.grouby` to group your DataFrame by Company and take the average of the grouped ratings.\n",
    "\n",
    "    Then, use the `.nlargest` command to get the 10 highest rated chocolate companies. Print them out.\n",
    "    \n",
    "    Look at the hint if you get stuck on this step!"
   ]
  },
  {
   "cell_type": "code",
   "execution_count": 12,
   "metadata": {},
   "outputs": [
    {
     "name": "stdout",
     "output_type": "stream",
     "text": [
      "                                  Company    Rating\n",
      "380                Tobago Estate (Pralus)  4.000000\n",
      "183  Heirloom Cacao Preservation (Zokoko)  3.875000\n",
      "287                                Ocelot  3.875000\n",
      "14                                 Amedei  3.846154\n",
      "249                                Matale  3.812500\n",
      "304                                Patric  3.791667\n",
      "191                     Idilio (Felchlin)  3.775000\n",
      "2                                  Acalli  3.750000\n",
      "82                             Chocola'te  3.750000\n",
      "96           Christopher Morel (Felchlin)  3.750000\n"
     ]
    }
   ],
   "source": [
    "#applying group by on 'Company'\n",
    "grouped_df = df.groupby(\"Company\")\n",
    "#calculate the mean rating for each company\n",
    "mean_df = grouped_df.mean(\"Rating\")\n",
    "#print(mean_df)\n",
    "#reset the index of the dataframe with numerical value (either with this or without is ok for this project)\n",
    "mean_df = mean_df.reset_index()\n",
    "#print(mean_df)\n",
    "\n",
    "top_10 = mean_df.nlargest(10, \"Rating\")\n",
    "print(top_10)\n",
    "\n",
    "\n"
   ]
  },
  {
   "cell_type": "markdown",
   "metadata": {},
   "source": [
    "## Is more cacao better?"
   ]
  },
  {
   "cell_type": "markdown",
   "metadata": {},
   "source": [
    "14. We want to see if the chocolate experts tend to rate chocolate bars with higher levels of cacoa to be better than those with lower levels of cacoa.\n",
    "\n",
    "    It looks like the cocoa percentages are in the table under the Cocoa Percent column (note we are looking at cocoa not cocao!)\n",
    "    \n",
    "    Using the same methods you used in the last couple of tasks, create a list that contains all of the cocoa percentages. Store each percent as a float, after stripping off the `%` character."
   ]
  },
  {
   "cell_type": "code",
   "execution_count": 13,
   "metadata": {},
   "outputs": [
    {
     "name": "stdout",
     "output_type": "stream",
     "text": [
      "1795\n"
     ]
    }
   ],
   "source": [
    "#here we are creating a list out of the 'cocoa percentage' column of data in the table\n",
    "cocoa = soup.find_all(attrs={'class':'CocoaPercent'})\n",
    "coco = []\n",
    "for item in cocoa:\n",
    "     coco.append(item.get_text())          \n",
    "#remove first item from the list\n",
    "coco.pop(0)\n",
    "print(len(coco))\n",
    "#print(coco)\n"
   ]
  },
  {
   "cell_type": "code",
   "execution_count": 14,
   "metadata": {},
   "outputs": [],
   "source": [
    "#convert values in the list from strings to float and create a new list for this 'clean' data\n",
    "coco_data = []\n",
    "for item in coco:\n",
    "    remove_percent = item.replace('%','')\n",
    "    coco_data.append(float(remove_percent))\n",
    "#print(coco_data)    "
   ]
  },
  {
   "cell_type": "markdown",
   "metadata": {},
   "source": [
    "15. Add the cocoa percentages as a column called `\"CocoaPercentage\"` in the DataFrame that has companies and ratings in it."
   ]
  },
  {
   "cell_type": "code",
   "execution_count": 15,
   "metadata": {},
   "outputs": [],
   "source": [
    "#Adding more data to the dataframe\n",
    "df['CocoaPercentage'] = coco_data\n",
    "#print(df)"
   ]
  },
  {
   "cell_type": "markdown",
   "metadata": {},
   "source": [
    "16. Make a scatterplot of ratings (`your_df.Rating`) vs percentage of cocoa (`your_df.CocoaPercentage`).\n",
    "\n",
    "    You can do this in Matplotlib with these commands:\n",
    "    \n",
    "```py\n",
    "plt.scatter(df.CocoaPercentage, df.Rating)\n",
    "plt.show()\n",
    "```\n",
    "\n",
    "Call `plt.clf()` to clear the figure between showing your histogram and this scatterplot."
   ]
  },
  {
   "cell_type": "code",
   "execution_count": 16,
   "metadata": {},
   "outputs": [
    {
     "data": {
      "image/png": "[encoded data removed]",
      "text/plain": [
       "<Figure size 432x288 with 1 Axes>"
      ]
     },
     "metadata": {
      "needs_background": "light"
     },
     "output_type": "display_data"
    }
   ],
   "source": [
    "plt.clf()    #not really sure why I need to do this as it doesn't impact by scatterplot\n",
    "plt.scatter(df.CocoaPercentage, df.Rating)\n",
    "z = np.polyfit(df.CocoaPercentage, df.Rating, 1)\n",
    "line_function = np.poly1d(z)\n",
    "plt.plot(df.CocoaPercentage, line_function(df.CocoaPercentage), \"r-\")\n",
    "plt.show()\n"
   ]
  },
  {
   "cell_type": "markdown",
   "metadata": {},
   "source": [
    "17. Is there any correlation here? We can use some numpy commands to draw a line of best-fit over the scatterplot.\n",
    "\n",
    "    Copy this code and paste it after you create the scatterplot, but before you call `.show()`:\n",
    "    \n",
    "```py\n",
    "z = np.polyfit(df.CocoaPercentage, df.Rating, 1)\n",
    "line_function = np.poly1d(z)\n",
    "plt.plot(df.CocoaPercentage, line_function(df.CocoaPercentage), \"r-\")\n",
    "```"
   ]
  },
  {
   "cell_type": "markdown",
   "metadata": {},
   "source": [
    "Interestingly, the line of best fit is sloping downwards, implying that as the cocoa percentage increases, the rating falls.\n",
    "There is quite an even distribution of ratings across all cocoa percentages, high cocoa seem to have attracted high and low\n",
    "ratings. \n",
    "\n"
   ]
  },
  {
   "cell_type": "markdown",
   "metadata": {},
   "source": [
    "## Explore!"
   ]
  },
  {
   "cell_type": "markdown",
   "metadata": {},
   "source": [
    "18. We have explored a couple of the questions about chocolate that inspired us when we looked at this chocolate table.\n",
    "\n",
    "    What other kinds of questions can you answer here? Try to use a combination of BeautifulSoup and Pandas to explore some more.\n",
    "    \n",
    "    For inspiration: Where are the best cocoa beans grown? Which countries produce the highest-rated bars?"
   ]
  },
  {
   "cell_type": "code",
   "execution_count": 17,
   "metadata": {},
   "outputs": [
    {
     "name": "stdout",
     "output_type": "stream",
     "text": [
      "1795\n",
      "1795\n"
     ]
    }
   ],
   "source": [
    "#here we are creating a list out of the 'company location' data\n",
    "comp_loc = soup.find_all(attrs={'class':'CompanyLocation'})\n",
    "comploc = []\n",
    "for item in comp_loc:\n",
    "     comploc.append(item.get_text())          \n",
    "#remove first item from the list\n",
    "comploc.pop(0)\n",
    "print(len(comploc))\n",
    "\n",
    "#here we are creating a list out of the 'cocoa bean origin' data\n",
    "bean_origin = soup.find_all(attrs={'class':'BroadBeanOrigin'})\n",
    "bean_orig = []\n",
    "for item in bean_origin:\n",
    "     bean_orig.append(item.get_text())          \n",
    "#remove first item from the list\n",
    "bean_orig.pop(0)\n",
    "print(len(bean_orig))\n",
    "#print(bean_orig)\n",
    "\n",
    "#add these two new lists of data to the dataframe\n"
   ]
  },
  {
   "cell_type": "code",
   "execution_count": 18,
   "metadata": {},
   "outputs": [],
   "source": [
    "df['Company_Location'] = comploc\n",
    "df['Bean_Origin'] = bean_orig\n",
    "#print(df)"
   ]
  },
  {
   "cell_type": "code",
   "execution_count": 19,
   "metadata": {},
   "outputs": [
    {
     "name": "stdout",
     "output_type": "stream",
     "text": [
      "Here are the top 5 countries of bean origin by rating:\n",
      "\n",
      "                              Rating  CocoaPercentage\n",
      "Bean_Origin                                          \n",
      "Dom. Rep., Madagascar            4.0             70.0\n",
      "Gre., PNG, Haw., Haiti, Mad      4.0             70.0\n",
      "Guat., D.R., Peru, Mad., PNG     4.0             88.0\n",
      "Peru, Dom. Rep                   4.0             67.0\n",
      "Ven, Bolivia, D.R.               4.0             70.0\n"
     ]
    }
   ],
   "source": [
    "#QUESTION: WHERE ARE THE BEST BEANS GROWN?\n",
    "#print(df)\n",
    "\n",
    "#applying group by on 'Bean_Origin'\n",
    "grouped_df_bean = df.groupby(\"Bean_Origin\")\n",
    "\n",
    "#calculate the mean rating for each Country of Bean Origincompany\n",
    "mean_df_bean = grouped_df_bean.mean(\"Rating\")\n",
    "#print(mean_df_bean)\n",
    "\n",
    "print(\"Here are the top 5 countries of bean origin by rating:\")\n",
    "print()\n",
    "top_5 = mean_df_bean.nlargest(5, \"Rating\")\n",
    "print(top_5)"
   ]
  },
  {
   "cell_type": "code",
   "execution_count": 20,
   "metadata": {},
   "outputs": [
    {
     "name": "stdout",
     "output_type": "stream",
     "text": [
      "Here are the top 5 countries that Produce the chocolate bars by average rating:\n",
      "\n",
      "                    Rating  CocoaPercentage\n",
      "Company_Location                           \n",
      "Chile             3.750000        70.000000\n",
      "Amsterdam         3.500000        73.250000\n",
      "Netherlands       3.500000        70.000000\n",
      "Philippines       3.500000        65.000000\n",
      "Iceland           3.416667        68.666667\n"
     ]
    }
   ],
   "source": [
    "#QUESTION: WHERE ARE THE BEST CHOCOLATE BARS PRODUCED?\n",
    "\n",
    "#applying group by on 'Company Location'\n",
    "group_df_country = df.groupby(\"Company_Location\")\n",
    "\n",
    "#calculate the mean rating by Company (that produces the chocolate)\n",
    "mean_df_country = group_df_country.mean(\"Rating\")\n",
    "\n",
    "#print(mean_df_country)\n",
    "print(\"Here are the top 5 countries that Produce the chocolate bars by average rating:\")\n",
    "print()\n",
    "top_5 = mean_df_country.nlargest(5, \"Rating\")\n",
    "print(top_5)"
   ]
  }
 ],
 "metadata": {
  "kernelspec": {
   "display_name": "Python 3",
   "language": "python",
   "name": "python3"
  },
  "language_info": {
   "codemirror_mode": {
    "name": "ipython",
    "version": 3
   },
   "file_extension": ".py",
   "mimetype": "text/x-python",
   "name": "python",
   "nbconvert_exporter": "python",
   "pygments_lexer": "ipython3",
   "version": "3.8.5"
  }
 },
 "nbformat": 4,
 "nbformat_minor": 2
}
